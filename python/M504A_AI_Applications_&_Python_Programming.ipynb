{
  "nbformat": 4,
  "nbformat_minor": 0,
  "metadata": {
    "colab": {
      "provenance": [],
      "authorship_tag": "ABX9TyNRsPLfsdxs1H1QVGUunL+S",
      "include_colab_link": true
    },
    "kernelspec": {
      "name": "python3",
      "display_name": "Python 3"
    },
    "language_info": {
      "name": "python"
    }
  },
  "cells": [
    {
      "cell_type": "markdown",
      "metadata": {
        "id": "view-in-github",
        "colab_type": "text"
      },
      "source": [
        "<a href=\"https://colab.research.google.com/github/meetgoel/Gisma-Data-Science-/blob/main/python/M504A_AI_Applications_%26_Python_Programming.ipynb\" target=\"_parent\"><img src=\"https://colab.research.google.com/assets/colab-badge.svg\" alt=\"Open In Colab\"/></a>"
      ]
    },
    {
      "cell_type": "markdown",
      "source": [
        "#Python for Data Science"
      ],
      "metadata": {
        "id": "E-ndC6VR1hvh"
      }
    },
    {
      "cell_type": "markdown",
      "source": [
        "#Expressions"
      ],
      "metadata": {
        "id": "Som1rsOa2fBX"
      }
    },
    {
      "cell_type": "markdown",
      "source": [
        "#Call Functions"
      ],
      "metadata": {
        "id": "VHgv5OujImfV"
      }
    },
    {
      "cell_type": "markdown",
      "source": [
        "#Operators"
      ],
      "metadata": {
        "id": "38CBEkgfItaS"
      }
    },
    {
      "cell_type": "markdown",
      "source": [
        "#Built-in Function vs Keywords\n"
      ],
      "metadata": {
        "id": "lW4EorM-IroO"
      }
    },
    {
      "cell_type": "markdown",
      "source": [
        "#Data Type"
      ],
      "metadata": {
        "id": "IECN2sECI2Wb"
      }
    },
    {
      "cell_type": "markdown",
      "source": [
        "#String Operations"
      ],
      "metadata": {
        "id": "7mQcSUANMyrT"
      }
    },
    {
      "cell_type": "code",
      "source": [
        "st = \"Michael Jordan\"\n",
        "\n",
        "st[0:1] # 0 is included and 1 is excluded\n",
        "\n",
        "st[2:5]\n",
        "\n",
        "st[-1] # for slicing the string from the end\n",
        "\n",
        "st[-2]\n",
        "\n",
        "st[6:] #including the 6th index till the end"
      ],
      "metadata": {
        "colab": {
          "base_uri": "https://localhost:8080/",
          "height": 35
        },
        "id": "vTYgm7E-uOKv",
        "outputId": "600d76b2-219b-4440-bf45-81a3a64d4784"
      },
      "execution_count": null,
      "outputs": [
        {
          "output_type": "execute_result",
          "data": {
            "text/plain": [
              "'l Jordan'"
            ],
            "application/vnd.google.colaboratory.intrinsic+json": {
              "type": "string"
            }
          },
          "metadata": {},
          "execution_count": 8
        }
      ]
    },
    {
      "cell_type": "code",
      "source": [
        "st[len(st)-1] # we put -1 because the index starts from 0 so their is nothing on the 10th position that's why we have put -1 so that it can take the 9th position"
      ],
      "metadata": {
        "colab": {
          "base_uri": "https://localhost:8080/",
          "height": 35
        },
        "id": "WL_Q7qhjuXps",
        "outputId": "eb13b4b5-093a-423b-db16-c64d329d9838"
      },
      "execution_count": null,
      "outputs": [
        {
          "output_type": "execute_result",
          "data": {
            "text/plain": [
              "'n'"
            ],
            "application/vnd.google.colaboratory.intrinsic+json": {
              "type": "string"
            }
          },
          "metadata": {},
          "execution_count": 7
        }
      ]
    },
    {
      "cell_type": "code",
      "source": [
        "x = 4\n",
        "x = str(x)\n",
        "type(x)\n",
        "x"
      ],
      "metadata": {
        "colab": {
          "base_uri": "https://localhost:8080/",
          "height": 35
        },
        "id": "dhrMYNZjvLvM",
        "outputId": "1367c21a-8b9b-4196-81c0-29e7f9847951"
      },
      "execution_count": null,
      "outputs": [
        {
          "output_type": "execute_result",
          "data": {
            "text/plain": [
              "'4'"
            ],
            "application/vnd.google.colaboratory.intrinsic+json": {
              "type": "string"
            }
          },
          "metadata": {},
          "execution_count": 12
        }
      ]
    },
    {
      "cell_type": "markdown",
      "source": [
        "##String Methods - Every strings we use in python are objects\n"
      ],
      "metadata": {
        "id": "1dw2ISakwA0q"
      }
    },
    {
      "cell_type": "code",
      "source": [
        "st = \"Michael Jordan\"\n",
        "st\n",
        "\n",
        "st.lower() #Lower case & Upper case\n",
        "st.upper()"
      ],
      "metadata": {
        "colab": {
          "base_uri": "https://localhost:8080/",
          "height": 35
        },
        "id": "JB7dMzRqwJoU",
        "outputId": "e184b602-6be0-4a69-d4db-21c79501e9ea"
      },
      "execution_count": null,
      "outputs": [
        {
          "output_type": "execute_result",
          "data": {
            "text/plain": [
              "'MICHAEL JORDAN'"
            ],
            "application/vnd.google.colaboratory.intrinsic+json": {
              "type": "string"
            }
          },
          "metadata": {},
          "execution_count": 17
        }
      ]
    },
    {
      "cell_type": "code",
      "source": [
        "st.replace('a','Z') #Replace function"
      ],
      "metadata": {
        "colab": {
          "base_uri": "https://localhost:8080/",
          "height": 35
        },
        "id": "S7-D4aYowi2r",
        "outputId": "40e2f354-12fd-42df-8f58-ad61655338db"
      },
      "execution_count": null,
      "outputs": [
        {
          "output_type": "execute_result",
          "data": {
            "text/plain": [
              "'MichZel JordZn'"
            ],
            "application/vnd.google.colaboratory.intrinsic+json": {
              "type": "string"
            }
          },
          "metadata": {},
          "execution_count": 18
        }
      ]
    },
    {
      "cell_type": "code",
      "source": [
        "st = \"Michael Jordan was a very good basketball player. However, he is now retired.\"\n",
        "\n",
        "len(st.split()) #Splitting a String - by default it consider space as a parameter\n"
      ],
      "metadata": {
        "colab": {
          "base_uri": "https://localhost:8080/"
        },
        "id": "ATgeJaP8xZHV",
        "outputId": "52f83837-649b-419f-e06b-4c4af4652f36"
      },
      "execution_count": null,
      "outputs": [
        {
          "output_type": "execute_result",
          "data": {
            "text/plain": [
              "13"
            ]
          },
          "metadata": {},
          "execution_count": 32
        }
      ]
    },
    {
      "cell_type": "code",
      "source": [
        "st = \"This is a good example: Michael Jordan was a very good basketball player. However, he is now retired.\"\n",
        "st.count(\"is\") #Count the given parameters number of occurences within a string"
      ],
      "metadata": {
        "colab": {
          "base_uri": "https://localhost:8080/"
        },
        "id": "Z4GydzQ-xpba",
        "outputId": "62d64c9c-3c02-4617-a8b2-67f7e2d354c5"
      },
      "execution_count": null,
      "outputs": [
        {
          "output_type": "execute_result",
          "data": {
            "text/plain": [
              "3"
            ]
          },
          "metadata": {},
          "execution_count": 35
        }
      ]
    },
    {
      "cell_type": "code",
      "source": [
        "st = \"This is a good example: Michael Jordan was a very good basketball player. However, he is now retired.\"\n",
        "\n",
        "st.find(\"good\") #find() finds the position of the given parameter and returns index and only returns the first appearance of the index"
      ],
      "metadata": {
        "colab": {
          "base_uri": "https://localhost:8080/"
        },
        "id": "hA0ainuQzjc5",
        "outputId": "469b41e4-8c22-42f3-c7bb-b0f63efebb3e"
      },
      "execution_count": null,
      "outputs": [
        {
          "output_type": "execute_result",
          "data": {
            "text/plain": [
              "10"
            ]
          },
          "metadata": {},
          "execution_count": 40
        }
      ]
    },
    {
      "cell_type": "code",
      "source": [
        "name = \"Lisa\"\n",
        "family = \"Jackson\"\n",
        "message = \"The name of student is {} and the family name {}\".format(name,family) #The format method replace the curly braces with inputted values\n",
        "message\n"
      ],
      "metadata": {
        "colab": {
          "base_uri": "https://localhost:8080/",
          "height": 35
        },
        "id": "OLNaSZuw0BSY",
        "outputId": "75a28179-8bc1-4aaf-8570-a7d517fa968d"
      },
      "execution_count": null,
      "outputs": [
        {
          "output_type": "execute_result",
          "data": {
            "text/plain": [
              "'The name of student is Lisa and the family name Jackson'"
            ],
            "application/vnd.google.colaboratory.intrinsic+json": {
              "type": "string"
            }
          },
          "metadata": {},
          "execution_count": 46
        }
      ]
    },
    {
      "cell_type": "markdown",
      "source": [
        "##Mutable and Immutable Strings"
      ],
      "metadata": {
        "id": "5jQCVSVm04fV"
      }
    },
    {
      "cell_type": "code",
      "source": [
        "st = \"Michael Jordan\" #If objects are changed using assignment operator then they are called to be mutable.\n",
        "\n",
        "#st[0] = \"z\" - here the string is immutable as the written code generates a error\n"
      ],
      "metadata": {
        "id": "zNyKOT2V2DpB"
      },
      "execution_count": null,
      "outputs": []
    },
    {
      "cell_type": "markdown",
      "source": [
        "##Boolean"
      ],
      "metadata": {
        "id": "xBs7Ytvm2Ohe"
      }
    },
    {
      "cell_type": "code",
      "source": [
        "type(True). #Booleans values are mainly used for the comparision.\n",
        "type(False)"
      ],
      "metadata": {
        "colab": {
          "base_uri": "https://localhost:8080/"
        },
        "id": "9tIocxnJ2rMl",
        "outputId": "7cd383f0-8cde-4ead-ea3a-355338b2618a"
      },
      "execution_count": null,
      "outputs": [
        {
          "output_type": "execute_result",
          "data": {
            "text/plain": [
              "bool"
            ]
          },
          "metadata": {},
          "execution_count": 50
        }
      ]
    },
    {
      "cell_type": "code",
      "source": [
        "a = 20\n",
        "b = 50\n",
        "\n",
        "a < b\n",
        "a > b\n",
        "\n",
        "a = 50\n",
        "a == b"
      ],
      "metadata": {
        "colab": {
          "base_uri": "https://localhost:8080/"
        },
        "id": "WLsoYj-t2tAc",
        "outputId": "86f45129-ce22-41f4-92b6-ac61d013164e"
      },
      "execution_count": null,
      "outputs": [
        {
          "output_type": "execute_result",
          "data": {
            "text/plain": [
              "True"
            ]
          },
          "metadata": {},
          "execution_count": 55
        }
      ]
    },
    {
      "cell_type": "markdown",
      "source": [
        "##Identity Operator\n"
      ],
      "metadata": {
        "id": "tf5Kuab-29Ml"
      }
    },
    {
      "cell_type": "markdown",
      "source": [
        "##Collection Types"
      ],
      "metadata": {
        "id": "b17T_MLz3YQv"
      }
    },
    {
      "cell_type": "markdown",
      "source": [
        "#Tuples"
      ],
      "metadata": {
        "id": "pjvCGUi_39bs"
      }
    },
    {
      "cell_type": "markdown",
      "source": [
        "Tuples are immutable"
      ],
      "metadata": {
        "id": "skjIgoYn4DtQ"
      }
    },
    {
      "cell_type": "code",
      "source": [
        "t = (1, 3, 5, 7, 9)\n",
        "\n",
        "type(t)\n",
        "\n",
        "t\n",
        "\n",
        "t[0] #for accessing the elements\n",
        "\n",
        "t1 = (1, 3.5, \"Ali\", (11, 22, 44), 9) #Nested Tuples\n",
        "\n",
        "# len() , t.count(), t.index() are the functions of tuples\n",
        "\n",
        "#t.index() gives the position of the element entered as a parameter"
      ],
      "metadata": {
        "id": "GvyqW5iD4HW2"
      },
      "execution_count": null,
      "outputs": []
    },
    {
      "cell_type": "markdown",
      "source": [
        "##Lists"
      ],
      "metadata": {
        "id": "cbnL2zkj4hih"
      }
    },
    {
      "cell_type": "markdown",
      "source": [
        "Lists are mutable\n"
      ],
      "metadata": {
        "id": "67StIeS15gM5"
      }
    },
    {
      "cell_type": "code",
      "source": [
        "lst = []\n",
        "\n",
        "type(lst)\n",
        "\n",
        "lst = [23, 2.5, 1000, None, True, \"Amrit\", [1,2,3],(89,22,33)]\n",
        "\n",
        "lst"
      ],
      "metadata": {
        "colab": {
          "base_uri": "https://localhost:8080/"
        },
        "id": "kXFU7H665jRE",
        "outputId": "9bec955e-dd2f-4af0-989e-c67508c5d957"
      },
      "execution_count": null,
      "outputs": [
        {
          "output_type": "execute_result",
          "data": {
            "text/plain": [
              "[23, 2.5, 1000, None, True, 'Amrit', [1, 2, 3], (89, 22, 33)]"
            ]
          },
          "metadata": {},
          "execution_count": 71
        }
      ]
    },
    {
      "cell_type": "code",
      "source": [
        "lst.append(\"Michael\") #Append function adds a list containing element in the last of the list\n",
        "print(lst)"
      ],
      "metadata": {
        "colab": {
          "base_uri": "https://localhost:8080/"
        },
        "id": "namyRSQ55x_o",
        "outputId": "db53f5ad-995c-40fa-ddb2-1e11d0119f32"
      },
      "execution_count": null,
      "outputs": [
        {
          "output_type": "stream",
          "name": "stdout",
          "text": [
            "[23, 2.5, 1000, None, True, 'Amrit', [1, 2, 3], (89, 22, 33), 'Michael', 'Michael', 'Michael']\n"
          ]
        }
      ]
    },
    {
      "cell_type": "code",
      "source": [
        "lst1 = [10,20]\n",
        "lst2 = [\"Lisa\",\"Michael\"]\n",
        "\n",
        "#lst1.append(lst2)\n",
        "#lst1"
      ],
      "metadata": {
        "id": "N1HwOvpW6RbJ"
      },
      "execution_count": null,
      "outputs": []
    },
    {
      "cell_type": "code",
      "source": [
        "lst1.extend(lst2) # Extend function adds the element from a list to another list\n",
        "lst1"
      ],
      "metadata": {
        "colab": {
          "base_uri": "https://localhost:8080/"
        },
        "id": "CoYGAmot6q7Q",
        "outputId": "7206e6f5-4aa8-4055-a17d-956729b9a04d"
      },
      "execution_count": null,
      "outputs": [
        {
          "output_type": "execute_result",
          "data": {
            "text/plain": [
              "[10, 20, 'Lisa', 'Michael']"
            ]
          },
          "metadata": {},
          "execution_count": 81
        }
      ]
    },
    {
      "cell_type": "code",
      "source": [
        "lst = [\"Lisa\", \"Mohit\", \"Mohammad\", \"Michael\"]\n",
        "\n",
        "lst.insert(1,\"John\") #insert function is used for inserting a element between the list of elements\n",
        "lst"
      ],
      "metadata": {
        "colab": {
          "base_uri": "https://localhost:8080/"
        },
        "id": "1MsrTTBO60xl",
        "outputId": "a4312550-5f86-4adb-871f-55e3cb03a988"
      },
      "execution_count": null,
      "outputs": [
        {
          "output_type": "execute_result",
          "data": {
            "text/plain": [
              "['Lisa', 'John', 'Mohit', 'Mohammad', 'Michael']"
            ]
          },
          "metadata": {},
          "execution_count": 85
        }
      ]
    },
    {
      "cell_type": "code",
      "source": [
        "lst = [\"Lisa\", \"Mohit\", \"Mohammad\", \"Michael\"]\n",
        "\n",
        "lst.remove(\"Lisa\") #remove function is used for removing an element from the list\n",
        "lst\n"
      ],
      "metadata": {
        "colab": {
          "base_uri": "https://localhost:8080/"
        },
        "id": "kyc5Lwg-7aFf",
        "outputId": "3041e0b0-6b8f-40df-94c4-9790cede7486"
      },
      "execution_count": null,
      "outputs": [
        {
          "output_type": "execute_result",
          "data": {
            "text/plain": [
              "['Mohit', 'Mohammad', 'Michael']"
            ]
          },
          "metadata": {},
          "execution_count": 87
        }
      ]
    },
    {
      "cell_type": "code",
      "source": [
        "lst = [\"Lisa\", \"Mohit\", \"Mohammad\", \"Michael\"]\n",
        "\n",
        "lst.pop() #pop function is used for removing the last element or from a specific index in the list\n",
        "lst"
      ],
      "metadata": {
        "colab": {
          "base_uri": "https://localhost:8080/"
        },
        "id": "wJ2jO1dJ8BU1",
        "outputId": "5a14d3ed-677d-467a-e3ae-50495c05a0b4"
      },
      "execution_count": null,
      "outputs": [
        {
          "output_type": "execute_result",
          "data": {
            "text/plain": [
              "['Lisa', 'Mohit', 'Mohammad']"
            ]
          },
          "metadata": {},
          "execution_count": 89
        }
      ]
    },
    {
      "cell_type": "code",
      "source": [
        "lst = [\"Lisa\", \"Mohit\", \"Mohammad\", \"Michael\"]\n",
        "\n",
        "lst.clear() #clear function is used for removing all the elements from the list\n",
        "lst"
      ],
      "metadata": {
        "colab": {
          "base_uri": "https://localhost:8080/"
        },
        "id": "eI1sgJLt8PU6",
        "outputId": "90a0630f-d955-4c6b-b72c-c3ed841e811f"
      },
      "execution_count": null,
      "outputs": [
        {
          "output_type": "execute_result",
          "data": {
            "text/plain": [
              "[]"
            ]
          },
          "metadata": {},
          "execution_count": 90
        }
      ]
    },
    {
      "cell_type": "code",
      "source": [
        "lst = [\"Lisa\", \"Mohit\", \"Mohammad\", \"Michael\"]\n",
        "\n",
        "lst.reverse() #reverse function is used for reversing the elements of the list\n",
        "lst"
      ],
      "metadata": {
        "colab": {
          "base_uri": "https://localhost:8080/"
        },
        "id": "pT5ZI6dV8dSK",
        "outputId": "c95c5829-64f6-4ef3-f2e6-06b794cea02b"
      },
      "execution_count": null,
      "outputs": [
        {
          "output_type": "execute_result",
          "data": {
            "text/plain": [
              "['Michael', 'Mohammad', 'Mohit', 'Lisa']"
            ]
          },
          "metadata": {},
          "execution_count": 91
        }
      ]
    },
    {
      "cell_type": "code",
      "source": [
        "lst = [25,12,-6,2.5,11,6,7]\n",
        "\n",
        "lst.sort() #sort function is used for sorting the elements of the list\n",
        "lst"
      ],
      "metadata": {
        "colab": {
          "base_uri": "https://localhost:8080/"
        },
        "id": "1CUEgyFe8fEw",
        "outputId": "5a02d026-81ca-4598-c784-99b1ae37ae4e"
      },
      "execution_count": null,
      "outputs": [
        {
          "output_type": "execute_result",
          "data": {
            "text/plain": [
              "[-6, 2.5, 6, 7, 11, 12, 25]"
            ]
          },
          "metadata": {},
          "execution_count": 93
        }
      ]
    },
    {
      "cell_type": "code",
      "source": [
        "lst = [\"Lisa\", \"Mohit\", \"Mohammad\", \"Michael\",\"ali\"]\n",
        "\n",
        "lst.sort()\n",
        "lst"
      ],
      "metadata": {
        "colab": {
          "base_uri": "https://localhost:8080/"
        },
        "id": "J-oNZvjG8iKe",
        "outputId": "83df8377-26c7-4f6c-abdd-0c684d3c4540"
      },
      "execution_count": null,
      "outputs": [
        {
          "output_type": "execute_result",
          "data": {
            "text/plain": [
              "['Lisa', 'Michael', 'Mohammad', 'Mohit']"
            ]
          },
          "metadata": {},
          "execution_count": 94
        }
      ]
    },
    {
      "cell_type": "markdown",
      "source": [
        "##Sets"
      ],
      "metadata": {
        "id": "EJdvAsMK9M2A"
      }
    },
    {
      "cell_type": "markdown",
      "source": [
        "Sets are unordered and collection of immutable objects and can hold any immutable object"
      ],
      "metadata": {
        "id": "P4OD2GCVEE-a"
      }
    },
    {
      "cell_type": "code",
      "source": [
        "s = {1,2,3}\n",
        "\n",
        "type(s)"
      ],
      "metadata": {
        "colab": {
          "base_uri": "https://localhost:8080/"
        },
        "id": "JNYBhSImENx8",
        "outputId": "238f2430-70da-4549-c519-adb0f4afe11b"
      },
      "execution_count": null,
      "outputs": [
        {
          "output_type": "execute_result",
          "data": {
            "text/plain": [
              "set"
            ]
          },
          "metadata": {},
          "execution_count": 97
        }
      ]
    },
    {
      "cell_type": "markdown",
      "source": [
        "\"in\" operator is used with any kind of collection type for checking whether a element or a value is inside a specific list or any other collection type."
      ],
      "metadata": {
        "id": "F_xWsqODEWsO"
      }
    },
    {
      "cell_type": "code",
      "source": [
        "s = {1, 2, 3}\n",
        "#s.add(3) sets have unique values so it won't be duplicated.\n",
        "s.add(4)\n",
        "s\n"
      ],
      "metadata": {
        "colab": {
          "base_uri": "https://localhost:8080/"
        },
        "id": "92vfF63yFKwO",
        "outputId": "2d4867c9-8c13-48a1-e47b-900d8b2948ed"
      },
      "execution_count": null,
      "outputs": [
        {
          "output_type": "execute_result",
          "data": {
            "text/plain": [
              "{1, 2, 3, 4}"
            ]
          },
          "metadata": {},
          "execution_count": 98
        }
      ]
    },
    {
      "cell_type": "code",
      "source": [
        "s = {1, 2 ,3}\n",
        "s.update([4,5,6]) # for adding multiple values within a set we need to use update function and input a list containing the multiple elements.\n",
        "s"
      ],
      "metadata": {
        "colab": {
          "base_uri": "https://localhost:8080/"
        },
        "id": "hKbCM6O2Fbls",
        "outputId": "dfaefcc6-b7ce-4973-bb81-10e1f36b5c8d"
      },
      "execution_count": null,
      "outputs": [
        {
          "output_type": "execute_result",
          "data": {
            "text/plain": [
              "{1, 2, 3, 4, 5, 6}"
            ]
          },
          "metadata": {},
          "execution_count": 100
        }
      ]
    },
    {
      "cell_type": "markdown",
      "source": [
        "Set Operations and Methods"
      ],
      "metadata": {
        "id": "LIKoADR0Fqbn"
      }
    },
    {
      "cell_type": "markdown",
      "source": [
        "Union"
      ],
      "metadata": {
        "id": "S-zwqIhTFvOr"
      }
    },
    {
      "cell_type": "code",
      "source": [
        "s1.union(s2)"
      ],
      "metadata": {
        "id": "yC5hVZd_GF-e"
      },
      "execution_count": null,
      "outputs": []
    },
    {
      "cell_type": "markdown",
      "source": [
        "Intersection"
      ],
      "metadata": {
        "id": "_mOGqhrNFxc-"
      }
    },
    {
      "cell_type": "code",
      "source": [
        "s1.intersection(s2)"
      ],
      "metadata": {
        "id": "JkI7IzKVGKCa"
      },
      "execution_count": null,
      "outputs": []
    },
    {
      "cell_type": "markdown",
      "source": [
        "Difference"
      ],
      "metadata": {
        "id": "8q581ZNOF2Gd"
      }
    },
    {
      "cell_type": "code",
      "source": [
        "s1.difference(s2)"
      ],
      "metadata": {
        "id": "VyqnIgC1GMYU"
      },
      "execution_count": null,
      "outputs": []
    },
    {
      "cell_type": "markdown",
      "source": [
        "Symmetric Difference"
      ],
      "metadata": {
        "id": "SNAxSgrTF3PC"
      }
    },
    {
      "cell_type": "code",
      "source": [
        "s1.symmetric_difference(s2)"
      ],
      "metadata": {
        "id": "DFmxJl_jGTO6"
      },
      "execution_count": null,
      "outputs": []
    },
    {
      "cell_type": "markdown",
      "source": [
        "Tasks given by sir - remove the duplicates values from the below list"
      ],
      "metadata": {
        "id": "HTzFWWejGVsq"
      }
    },
    {
      "cell_type": "code",
      "source": [
        "lst = [23, 2, 4, 5, 7, 23, 1, 3, 24, 6, 7, 8, 2, 4, 5, 100]\n"
      ],
      "metadata": {
        "id": "VxIC-DTHGY1a"
      },
      "execution_count": null,
      "outputs": []
    },
    {
      "cell_type": "code",
      "source": [
        "lst = list(set(lst)) #removes the duplicate value from the above list\n",
        "lst"
      ],
      "metadata": {
        "colab": {
          "base_uri": "https://localhost:8080/"
        },
        "id": "qrVmzcSVHOGI",
        "outputId": "d0b72fa5-860f-4b33-b3a6-dd1470ee9a7f"
      },
      "execution_count": null,
      "outputs": [
        {
          "output_type": "execute_result",
          "data": {
            "text/plain": [
              "[1, 2, 3, 4, 5, 6, 7, 8, 100, 23, 24]"
            ]
          },
          "metadata": {},
          "execution_count": 125
        }
      ]
    },
    {
      "cell_type": "markdown",
      "source": [
        "##Dictionaries"
      ],
      "metadata": {
        "id": "Kqd_DQNTHP2w"
      }
    },
    {
      "cell_type": "code",
      "source": [
        "grades = {\"Lisa\":85, \"Michael\":80, \"Mohit\":89, \"Ali\":87} #dict{Keys:Values}\n",
        "\n",
        "grades\n",
        "\n",
        "grades[\"Michael\"] = 82 #Dictionaries are mutable and can be accessed using the keys\n",
        "\n",
        "grades\n",
        "\n",
        "grades[\"Sarah\"] = 90 #This will add the new key:pair in the dictionary in the end\n",
        "\n",
        "grades\n",
        "\n",
        "grades.pop(\"Sarah\") #Pop function removes the key:pair from the dictionary\n",
        "\n",
        "grades\n",
        "\n",
        "grades.keys() #returns the list of keys within a dictionary\n",
        "grades.values() #returns the list of values within a dictionary\n",
        "grades.items() #returns the list of key:pair within a dictionary\n"
      ],
      "metadata": {
        "colab": {
          "base_uri": "https://localhost:8080/"
        },
        "id": "omb_rOObHgEf",
        "outputId": "2ff9c731-3f1c-403a-823a-6c0821bc1ce8"
      },
      "execution_count": null,
      "outputs": [
        {
          "output_type": "execute_result",
          "data": {
            "text/plain": [
              "dict_items([('Lisa', 85), ('Michael', 82), ('Mohit', 89), ('Ali', 87)])"
            ]
          },
          "metadata": {},
          "execution_count": 144
        }
      ]
    },
    {
      "cell_type": "markdown",
      "source": [
        "##Control Statements"
      ],
      "metadata": {
        "id": "sypp2RwIJ2V5"
      }
    },
    {
      "cell_type": "code",
      "source": [
        "print(\"Hello!, this is a small program\")\n",
        "\n",
        "x = 12\n",
        "y = 20\n",
        "\n",
        "print(\"x =\",x)\n",
        "print(\"y =\",y)\n",
        "\n",
        "print(\"-\"*40)\n",
        "\n",
        "print(\"Now we want to add this x and y:\")\n",
        "\n",
        "z = x + y\n",
        "print(\"x + y =\",z)\n",
        "\n",
        "print(\"=\" * 40)\n",
        "print(\"Thank you for your attention!\")"
      ],
      "metadata": {
        "colab": {
          "base_uri": "https://localhost:8080/"
        },
        "id": "X3ERPhSBKLns",
        "outputId": "d93dd6db-743e-49fd-baa4-9b58d496222b"
      },
      "execution_count": null,
      "outputs": [
        {
          "output_type": "stream",
          "name": "stdout",
          "text": [
            "Hello!, this is a small program\n",
            "x = 12\n",
            "y = 20\n",
            "----------------------------------------\n",
            "Now we want to add this x and y:\n",
            "x + y = 32\n",
            "========================================\n",
            "Thank you for your attention!\n"
          ]
        }
      ]
    },
    {
      "cell_type": "markdown",
      "source": [
        "##\"If\" statement"
      ],
      "metadata": {
        "id": "oRdu85ymK6hp"
      }
    },
    {
      "cell_type": "code",
      "source": [
        "x = 5\n",
        "\n",
        "if x > 0:\n",
        "  print(\"x is positive\")\n"
      ],
      "metadata": {
        "colab": {
          "base_uri": "https://localhost:8080/"
        },
        "id": "gei9JF8BLoG7",
        "outputId": "648d1e44-05f3-4bdc-d3fc-4a221ba12f2b"
      },
      "execution_count": null,
      "outputs": [
        {
          "output_type": "stream",
          "name": "stdout",
          "text": [
            "x is positive\n"
          ]
        }
      ]
    },
    {
      "cell_type": "markdown",
      "source": [
        "###Comparision and Logical Operators"
      ],
      "metadata": {
        "id": "6yrC0LoYL9YF"
      }
    },
    {
      "cell_type": "markdown",
      "source": [
        "### If y is bigger than x and y is an odd number then print \"Yes\""
      ],
      "metadata": {
        "id": "AbNFeOHdOnzq"
      }
    },
    {
      "cell_type": "code",
      "source": [
        "x = 2\n",
        "y = 5\n",
        "\n",
        "if y > x and y % 2 == 1:\n",
        "  print(\"Yes\")"
      ],
      "metadata": {
        "colab": {
          "base_uri": "https://localhost:8080/"
        },
        "id": "K1rv_PomO2Ei",
        "outputId": "7f9c9414-5b6f-41fd-fd5a-269319f581d5"
      },
      "execution_count": null,
      "outputs": [
        {
          "output_type": "stream",
          "name": "stdout",
          "text": [
            "Yes\n"
          ]
        }
      ]
    },
    {
      "cell_type": "markdown",
      "source": [
        "##\"Else\" Statement"
      ],
      "metadata": {
        "id": "ZrA9iIImPAIw"
      }
    },
    {
      "cell_type": "code",
      "source": [
        "x = -5\n",
        "\n",
        "if x > 0:\n",
        "  print(\"x is positive\")\n",
        "\n",
        "else:\n",
        "  print(\"x is negative\")"
      ],
      "metadata": {
        "colab": {
          "base_uri": "https://localhost:8080/"
        },
        "id": "LiFi1lIkQZ8M",
        "outputId": "8b665173-b439-44a0-ea8f-1deefa582390"
      },
      "execution_count": null,
      "outputs": [
        {
          "output_type": "stream",
          "name": "stdout",
          "text": [
            "x is negative\n"
          ]
        }
      ]
    },
    {
      "cell_type": "markdown",
      "source": [
        "##\"Elif\" Statement"
      ],
      "metadata": {
        "id": "HOfAeKTNQlNj"
      }
    },
    {
      "cell_type": "code",
      "source": [
        "x = -5\n",
        "\n",
        "if x > 0:\n",
        "  print(\"x is positive\")\n",
        "\n",
        "elif x == 0:\n",
        "  print(\"x is zero\")\n",
        "\n",
        "else:\n",
        "  print(\"x is negative\")"
      ],
      "metadata": {
        "colab": {
          "base_uri": "https://localhost:8080/"
        },
        "id": "6E7XGNXORIX4",
        "outputId": "97f84a49-7f70-43ee-bf33-aae5f48e160b"
      },
      "execution_count": null,
      "outputs": [
        {
          "output_type": "stream",
          "name": "stdout",
          "text": [
            "x is negative\n"
          ]
        }
      ]
    },
    {
      "cell_type": "code",
      "source": [
        "x = 5\n",
        "\n",
        "status = \"positive\" if x > 0 else \"negative\"\n",
        "\n",
        "status"
      ],
      "metadata": {
        "colab": {
          "base_uri": "https://localhost:8080/",
          "height": 35
        },
        "id": "OrXZG5oxRK_c",
        "outputId": "9e28f0a9-59c1-48c6-fac4-c0f7f12b9890"
      },
      "execution_count": null,
      "outputs": [
        {
          "output_type": "execute_result",
          "data": {
            "text/plain": [
              "'positive'"
            ],
            "application/vnd.google.colaboratory.intrinsic+json": {
              "type": "string"
            }
          },
          "metadata": {},
          "execution_count": 159
        }
      ]
    },
    {
      "cell_type": "markdown",
      "source": [
        "#Iterative Statements"
      ],
      "metadata": {
        "id": "G5dAJ6uhxG7S"
      }
    },
    {
      "cell_type": "markdown",
      "source": [
        "##While Loop"
      ],
      "metadata": {
        "id": "1m5hxmRlxU1c"
      }
    },
    {
      "cell_type": "code",
      "source": [
        "x = 1\n",
        "a = int(input(\"Enter any number: \"))\n",
        "while x <= a:\n",
        "  print( \"*\" * x)\n",
        "  x+=1"
      ],
      "metadata": {
        "colab": {
          "base_uri": "https://localhost:8080/"
        },
        "id": "gLigGUOqxaes",
        "outputId": "1a6ed277-77d4-44a1-ffce-5e2f5eb709cc"
      },
      "execution_count": null,
      "outputs": [
        {
          "output_type": "stream",
          "name": "stdout",
          "text": [
            "Enter any number: 1\n",
            "*\n"
          ]
        }
      ]
    },
    {
      "cell_type": "markdown",
      "source": [
        "##For Loop"
      ],
      "metadata": {
        "id": "bZo38_eZzV_9"
      }
    },
    {
      "cell_type": "code",
      "source": [
        "for i in [1,2,3]:\n",
        "  print(i)"
      ],
      "metadata": {
        "colab": {
          "base_uri": "https://localhost:8080/"
        },
        "id": "LaxB84Br3YDM",
        "outputId": "10203629-fc60-48aa-a54f-1a308cdcaa8b"
      },
      "execution_count": null,
      "outputs": [
        {
          "output_type": "stream",
          "name": "stdout",
          "text": [
            "1\n",
            "2\n",
            "3\n"
          ]
        }
      ]
    },
    {
      "cell_type": "code",
      "source": [
        "for i in range(1,11):\n",
        "  print(i)"
      ],
      "metadata": {
        "colab": {
          "base_uri": "https://localhost:8080/"
        },
        "id": "A_6qmyo73qRk",
        "outputId": "9a33371e-e308-49db-8768-c900b6342657"
      },
      "execution_count": null,
      "outputs": [
        {
          "output_type": "stream",
          "name": "stdout",
          "text": [
            "1\n",
            "2\n",
            "3\n",
            "4\n",
            "5\n",
            "6\n",
            "7\n",
            "8\n",
            "9\n",
            "10\n"
          ]
        }
      ]
    },
    {
      "cell_type": "code",
      "source": [
        "[*range(5)]"
      ],
      "metadata": {
        "colab": {
          "base_uri": "https://localhost:8080/"
        },
        "id": "NIqRlOI54AD4",
        "outputId": "b81fcd2e-692e-41b5-e148-5d171145749a"
      },
      "execution_count": null,
      "outputs": [
        {
          "output_type": "execute_result",
          "data": {
            "text/plain": [
              "[0, 1, 2, 3, 4]"
            ]
          },
          "metadata": {},
          "execution_count": 32
        }
      ]
    },
    {
      "cell_type": "code",
      "source": [
        "for i in range(1,11,3):\n",
        "  print(i)"
      ],
      "metadata": {
        "colab": {
          "base_uri": "https://localhost:8080/"
        },
        "id": "NAjQUBAx4qdd",
        "outputId": "359bca69-69da-4f64-d7f1-1401629b5459"
      },
      "execution_count": null,
      "outputs": [
        {
          "output_type": "stream",
          "name": "stdout",
          "text": [
            "1\n",
            "4\n",
            "7\n",
            "10\n"
          ]
        }
      ]
    },
    {
      "cell_type": "code",
      "source": [
        "for i in range(10,0,-3):\n",
        "  print(i)"
      ],
      "metadata": {
        "colab": {
          "base_uri": "https://localhost:8080/"
        },
        "id": "DgZKW5aG5KXw",
        "outputId": "5260fc7d-aadb-41e3-c42c-6eabae97adb7"
      },
      "execution_count": null,
      "outputs": [
        {
          "output_type": "stream",
          "name": "stdout",
          "text": [
            "10\n",
            "7\n",
            "4\n",
            "1\n"
          ]
        }
      ]
    },
    {
      "cell_type": "code",
      "source": [
        "for i in range(1,11):\n",
        "  print(i*\"*\")\n"
      ],
      "metadata": {
        "colab": {
          "base_uri": "https://localhost:8080/"
        },
        "id": "cChCQlTS5sJI",
        "outputId": "bb28debd-a2bd-4000-916a-3c502eb3f27c"
      },
      "execution_count": null,
      "outputs": [
        {
          "output_type": "stream",
          "name": "stdout",
          "text": [
            "*\n",
            "**\n",
            "***\n",
            "****\n",
            "*****\n",
            "******\n",
            "*******\n",
            "********\n",
            "*********\n",
            "**********\n"
          ]
        }
      ]
    },
    {
      "cell_type": "code",
      "source": [
        "x = 1\n",
        "a = int(input(\"Enter any number: \"))\n",
        "for i in range(1,a+1):\n",
        "  print(i*\"*\")\n"
      ],
      "metadata": {
        "colab": {
          "base_uri": "https://localhost:8080/"
        },
        "id": "AbDIcMDu50FP",
        "outputId": "8dc01a03-1634-4fa8-f4e9-f856038efde4"
      },
      "execution_count": null,
      "outputs": [
        {
          "output_type": "stream",
          "name": "stdout",
          "text": [
            "Enter any number: 10\n",
            "*\n",
            "**\n",
            "***\n",
            "****\n",
            "*****\n",
            "******\n",
            "*******\n",
            "********\n",
            "*********\n",
            "**********\n"
          ]
        }
      ]
    },
    {
      "cell_type": "markdown",
      "source": [
        "##Break Statement"
      ],
      "metadata": {
        "id": "rj3qIw1T6rCz"
      }
    },
    {
      "cell_type": "code",
      "source": [
        "for i in range(1, 11):\n",
        "  if i == 5:\n",
        "    break\n",
        "  print(i)"
      ],
      "metadata": {
        "colab": {
          "base_uri": "https://localhost:8080/"
        },
        "id": "DkQEWo-s65sh",
        "outputId": "01b37f24-b80b-40a3-bd6e-207bb7bf997b"
      },
      "execution_count": null,
      "outputs": [
        {
          "output_type": "stream",
          "name": "stdout",
          "text": [
            "1\n",
            "2\n",
            "3\n",
            "4\n"
          ]
        }
      ]
    },
    {
      "cell_type": "markdown",
      "source": [
        "##Continue Statement"
      ],
      "metadata": {
        "id": "AzHIQEHC82Vg"
      }
    },
    {
      "cell_type": "code",
      "source": [
        "for i in range(1, 11):\n",
        "  if i == 5:\n",
        "    continue\n",
        "  print(i)"
      ],
      "metadata": {
        "colab": {
          "base_uri": "https://localhost:8080/"
        },
        "id": "LLXA7NFI6-tD",
        "outputId": "1bed616b-1e5b-4fa5-a253-8ed1e4f54f13"
      },
      "execution_count": null,
      "outputs": [
        {
          "output_type": "stream",
          "name": "stdout",
          "text": [
            "1\n",
            "2\n",
            "3\n",
            "4\n",
            "6\n",
            "7\n",
            "8\n",
            "9\n",
            "10\n"
          ]
        }
      ]
    },
    {
      "cell_type": "markdown",
      "source": [
        "##Pass Statement"
      ],
      "metadata": {
        "id": "s4DU4n0b86yX"
      }
    },
    {
      "cell_type": "code",
      "source": [
        "n = int(input(\"Enter any integer: \"))\n",
        "if n >= 100:\n",
        "  print(\"3 digits\")\n",
        "elif n< 10:\n",
        "  print(\"1 digit\")\n",
        "elif n == 50:\n",
        "  pass\n",
        "\n",
        "else:\n",
        "    print(\"2 digits\")"
      ],
      "metadata": {
        "colab": {
          "base_uri": "https://localhost:8080/"
        },
        "id": "cyRTS2NC7iG4",
        "outputId": "b71c6ccd-5325-4dc6-8524-09086ace909b"
      },
      "execution_count": null,
      "outputs": [
        {
          "output_type": "stream",
          "name": "stdout",
          "text": [
            "Enter any integer: 1\n",
            "1 digit\n"
          ]
        }
      ]
    },
    {
      "cell_type": "markdown",
      "source": [
        "##Factorial Program"
      ],
      "metadata": {
        "id": "ey59SVww8KNY"
      }
    },
    {
      "cell_type": "code",
      "source": [
        "n = int(input(\"Enter any integer: \"))\n",
        "fact = 1\n",
        "for i in range(1,n+1):\n",
        "  fact = fact * i\n",
        "print(fact)"
      ],
      "metadata": {
        "colab": {
          "base_uri": "https://localhost:8080/"
        },
        "id": "bZdL1zN39W8h",
        "outputId": "491f710e-b070-4aef-cdfe-16aee8f4e062"
      },
      "execution_count": null,
      "outputs": [
        {
          "output_type": "stream",
          "name": "stdout",
          "text": [
            "Enter any integer: 5\n",
            "120\n"
          ]
        }
      ]
    },
    {
      "cell_type": "markdown",
      "source": [
        "##Fibonacci Sequence Program"
      ],
      "metadata": {
        "id": "fH-SfAzU9dKH"
      }
    },
    {
      "cell_type": "code",
      "source": [
        "n = int(input(\"Enter any integer: \"))\n",
        "a = 0\n",
        "b = 1\n",
        "print(a)\n",
        "print(b)\n",
        "for i in range(1,n-1):\n",
        "  c = a + b\n",
        "  a = b\n",
        "  b = c\n",
        "  print(c)\n"
      ],
      "metadata": {
        "colab": {
          "base_uri": "https://localhost:8080/"
        },
        "id": "ZQhZ92DFG7g5",
        "outputId": "599ff2d2-ce00-4e57-d760-edf3882f29b9"
      },
      "execution_count": null,
      "outputs": [
        {
          "output_type": "stream",
          "name": "stdout",
          "text": [
            "Enter any integer: 10\n",
            "0\n",
            "1\n",
            "1\n",
            "2\n",
            "3\n",
            "5\n",
            "8\n",
            "13\n",
            "21\n",
            "34\n"
          ]
        }
      ]
    },
    {
      "cell_type": "code",
      "source": [
        "n = int(input(\"Enter any integer: \"))\n",
        "fib_lst = [0,1]\n",
        "for i in range(1,n):\n",
        "  fib_lst.append(fib_lst[-1] + fib_lst[-2])\n",
        "print(fib_lst)"
      ],
      "metadata": {
        "colab": {
          "base_uri": "https://localhost:8080/"
        },
        "id": "t4BtKqTbHEgu",
        "outputId": "120c2aeb-d0d9-4ad4-9485-d485bf3072dc"
      },
      "execution_count": null,
      "outputs": [
        {
          "output_type": "stream",
          "name": "stdout",
          "text": [
            "Enter any integer: 10\n",
            "[0, 1, 1, 2, 3, 5, 8, 13, 21, 34, 55]\n"
          ]
        }
      ]
    },
    {
      "cell_type": "code",
      "source": [
        "## 1 + 0 = 1\n",
        "## [0,1,1]\n",
        "## [1 + 1] = 2\n",
        "## [0,1,1,2]\n",
        "## [2 + 1] = 3\n",
        "## [0,1,1,2,3]\n"
      ],
      "metadata": {
        "id": "xXddNIjuIAgN"
      },
      "execution_count": null,
      "outputs": []
    },
    {
      "cell_type": "code",
      "source": [
        "n = int(input(\"Enter any integer: \"))\n",
        "fib_lst = [0,1]\n",
        "if n >= 2:\n",
        "  for i in range(2,n+1):\n",
        "    fib = fib_lst[i-1] + fib_lst[i-2]\n",
        "    fib_lst.append(fib)\n",
        "elif n==0:\n",
        "  fib_lst = [0]\n",
        "\n",
        "elif n == 1:\n",
        "  pass\n",
        "else:\n",
        "  fib_lst = None\n",
        "\n",
        "print(fib_lst)\n"
      ],
      "metadata": {
        "colab": {
          "base_uri": "https://localhost:8080/"
        },
        "id": "nQmqikA_NDhD",
        "outputId": "752acddf-0464-408c-81ed-dbab333e65f1"
      },
      "execution_count": null,
      "outputs": [
        {
          "output_type": "stream",
          "name": "stdout",
          "text": [
            "Enter any integer: 1\n",
            "[0, 1]\n"
          ]
        }
      ]
    },
    {
      "cell_type": "markdown",
      "source": [
        "#Functions"
      ],
      "metadata": {
        "id": "9tqbHMFRN-PF"
      }
    },
    {
      "cell_type": "markdown",
      "source": [
        "##User-Defined Function"
      ],
      "metadata": {
        "id": "RMr08m1NRCH_"
      }
    },
    {
      "cell_type": "code",
      "source": [
        "def greetings():\n",
        "  print(\"Hello GISMA\")\n",
        "  print(\"Hello Potsdam\")\n",
        "  print(\"Hello Germany\")\n",
        "\n",
        "\n",
        "greetings()"
      ],
      "metadata": {
        "colab": {
          "base_uri": "https://localhost:8080/"
        },
        "id": "6VRUb3DnPR_i",
        "outputId": "c16845c0-e994-4f15-c9e5-d7c3e049f59f"
      },
      "execution_count": null,
      "outputs": [
        {
          "output_type": "stream",
          "name": "stdout",
          "text": [
            "Hello GISMA\n",
            "Hello Potsdam\n",
            "Hello Germany\n"
          ]
        }
      ]
    },
    {
      "cell_type": "markdown",
      "source": [
        "#Built-in Function & Libraries\n"
      ],
      "metadata": {
        "id": "aWsBG2QUPouT"
      }
    },
    {
      "cell_type": "code",
      "source": [
        "import math\n",
        "\n",
        "p = 3.1415926535\n",
        "math.sin(p/2)"
      ],
      "metadata": {
        "colab": {
          "base_uri": "https://localhost:8080/"
        },
        "id": "9svfSTtgRH1k",
        "outputId": "c8eac4d0-8046-42ed-e864-21f35e1d5fb5"
      },
      "execution_count": null,
      "outputs": [
        {
          "output_type": "execute_result",
          "data": {
            "text/plain": [
              "1.0"
            ]
          },
          "metadata": {},
          "execution_count": 4
        }
      ]
    },
    {
      "cell_type": "code",
      "source": [
        "from math import sin, pi\n",
        "\n",
        "sin(pi/2)"
      ],
      "metadata": {
        "colab": {
          "base_uri": "https://localhost:8080/"
        },
        "id": "vC4TW_NfRJ3u",
        "outputId": "7cdfaeb1-03d5-4562-b758-33aad0cfaf39"
      },
      "execution_count": null,
      "outputs": [
        {
          "output_type": "execute_result",
          "data": {
            "text/plain": [
              "1.0"
            ]
          },
          "metadata": {},
          "execution_count": 5
        }
      ]
    },
    {
      "cell_type": "code",
      "source": [
        "from math import *\n",
        "\n",
        "tan(pi/2)"
      ],
      "metadata": {
        "colab": {
          "base_uri": "https://localhost:8080/"
        },
        "id": "tV1FoPXqR6qp",
        "outputId": "f3eb5fa5-980b-4d8f-9a38-92cd121a0b17"
      },
      "execution_count": null,
      "outputs": [
        {
          "output_type": "execute_result",
          "data": {
            "text/plain": [
              "1.633123935319537e+16"
            ]
          },
          "metadata": {},
          "execution_count": 7
        }
      ]
    },
    {
      "cell_type": "code",
      "source": [],
      "metadata": {
        "id": "aoay78erSX_F"
      },
      "execution_count": null,
      "outputs": []
    }
  ]
}