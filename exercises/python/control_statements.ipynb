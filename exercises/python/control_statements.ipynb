{
  "cells": [
    {
      "cell_type": "markdown",
      "id": "broad-significance",
      "metadata": {
        "id": "broad-significance"
      },
      "source": [
        "# Control Statements"
      ]
    },
    {
      "cell_type": "markdown",
      "id": "mighty-picnic",
      "metadata": {
        "id": "mighty-picnic"
      },
      "source": [
        "## Check 2 Numbers are Dividable\n",
        "Write a Python prgoram that takes 2 numbers and prints whether the first one is dividable by the second one or not. For example, if the user inputs 10 and 5, the program should print `\"10 is dividable by 5\"`."
      ]
    },
    {
      "cell_type": "code",
      "execution_count": 1,
      "id": "everyday-league",
      "metadata": {
        "id": "everyday-league",
        "outputId": "95138295-c506-4bc7-a74c-46a60b3d5077",
        "colab": {
          "base_uri": "https://localhost:8080/"
        }
      },
      "outputs": [
        {
          "output_type": "stream",
          "name": "stdout",
          "text": [
            "Enter a number:10\n",
            "Enter a number:5\n",
            "10 is dividable by 5\n"
          ]
        }
      ],
      "source": [
        "a = int(input(\"Enter a number:\"))\n",
        "b = int(input(\"Enter a number:\"))\n",
        "if a%b == 0:\n",
        "    print(f\"{a} is dividable by {b}\")\n",
        "else:\n",
        "    print(f\"{a} is not dividable by {b}\")"
      ]
    },
    {
      "cell_type": "markdown",
      "id": "certified-smell",
      "metadata": {
        "id": "certified-smell"
      },
      "source": [
        "## Check a Website Address Has .com\n",
        "Write a Python program that takes a website address and prints out whether it ends with `.com` or not. For example, given the string `\"www.google.com\"`, the program should print `\"www.google.com ends with .com\"`."
      ]
    },
    {
      "cell_type": "code",
      "execution_count": 2,
      "id": "framed-index",
      "metadata": {
        "id": "framed-index",
        "outputId": "c0ca64ec-d91e-4cb6-92fe-38fa51ba9ce5",
        "colab": {
          "base_uri": "https://localhost:8080/"
        }
      },
      "outputs": [
        {
          "output_type": "stream",
          "name": "stdout",
          "text": [
            "Enter a website address:www.google.com\n",
            "www.google.com ends with .com\n"
          ]
        }
      ],
      "source": [
        "str1 = input(\"Enter a website address:\")\n",
        "if str1.endswith(\".com\"):\n",
        "    print(f\"{str1} ends with .com\")\n",
        "else:\n",
        "    print(f\"{str1} does not end with .com\")"
      ]
    },
    {
      "cell_type": "markdown",
      "id": "lonely-hollow",
      "metadata": {
        "id": "lonely-hollow"
      },
      "source": [
        "## Remove Non-String List Elements\n",
        "Write a Python program that takes a list and create another list that only contains string elements of the first list. For example, given the list `[1, \"hello\", 4.3, True, \"bye\"]`, the program should define a list `[\"hello\", \"bye\"]`."
      ]
    },
    {
      "cell_type": "code",
      "execution_count": 3,
      "id": "compound-commissioner",
      "metadata": {
        "id": "compound-commissioner",
        "outputId": "7a2eb0a8-3ab4-4d71-edad-fcdcecb84217",
        "colab": {
          "base_uri": "https://localhost:8080/"
        }
      },
      "outputs": [
        {
          "output_type": "stream",
          "name": "stdout",
          "text": [
            "['hello', 'bye']\n"
          ]
        }
      ],
      "source": [
        "lst1 = [1, \"hello\", 4.3, True, \"bye\"]\n",
        "lst2 = []\n",
        "for i in lst1:\n",
        "    if type(i) == str:\n",
        "        lst2.append(i)\n",
        "print(lst2)"
      ]
    },
    {
      "cell_type": "markdown",
      "id": "conceptual-lobby",
      "metadata": {
        "id": "conceptual-lobby"
      },
      "source": [
        "## Compare Numbers\n",
        "Write a Python program that takes an integer, compares it to a predefined number, and tells the user to guess a larger or smaller number. For example, suppose the predefined number is 10 and the user inputs 7. The program should print `\"7 is too small!\"`."
      ]
    },
    {
      "cell_type": "code",
      "execution_count": 5,
      "id": "religious-leonard",
      "metadata": {
        "id": "religious-leonard",
        "outputId": "0885575e-f16b-4caa-a268-12c8cd17b782",
        "colab": {
          "base_uri": "https://localhost:8080/"
        }
      },
      "outputs": [
        {
          "output_type": "stream",
          "name": "stdout",
          "text": [
            "Enter a number:7\n",
            "7 is too small!\n"
          ]
        }
      ],
      "source": [
        "pre_num = 10\n",
        "user_num = int(input(\"Enter a number:\"))\n",
        "if user_num > pre_num:\n",
        "    print(f\"{user_num} is too big!\")\n",
        "elif user_num < pre_num:\n",
        "    print(f\"{user_num} is too small!\")"
      ]
    },
    {
      "cell_type": "markdown",
      "id": "gorgeous-knitting",
      "metadata": {
        "id": "gorgeous-knitting"
      },
      "source": [
        "## Sum Even Numbers\n",
        "Write a Python program that computes the sum of even numbers in a given list of integers."
      ]
    },
    {
      "cell_type": "code",
      "execution_count": 8,
      "id": "artificial-professor",
      "metadata": {
        "id": "artificial-professor",
        "outputId": "e903a0b0-c1ae-40ad-cd02-863d40e548c0",
        "colab": {
          "base_uri": "https://localhost:8080/"
        }
      },
      "outputs": [
        {
          "output_type": "stream",
          "name": "stdout",
          "text": [
            "30 is the sum of the above list\n"
          ]
        }
      ],
      "source": [
        "lst1 = [1, 2, 3, 4, 5, 6, 7, 8, 9, 10]\n",
        "sum = 0\n",
        "for i in lst1:\n",
        "    if i%2 == 0:\n",
        "        sum += i\n",
        "print(f\"{sum} is the sum of the above list\")"
      ]
    },
    {
      "cell_type": "markdown",
      "id": "e3044c58",
      "metadata": {
        "id": "e3044c58"
      },
      "source": [
        "## Find All Divisors\n",
        "Write a Python program that find all divisors of a given positive integer and store them in a list. For example, given 10, the resulting list should be `[1, 2, 5, 10]`."
      ]
    },
    {
      "cell_type": "code",
      "execution_count": 10,
      "id": "9bee6850",
      "metadata": {
        "id": "9bee6850",
        "outputId": "1d36de27-c7b6-45f3-e4d7-b0bec52c8178",
        "colab": {
          "base_uri": "https://localhost:8080/"
        }
      },
      "outputs": [
        {
          "output_type": "stream",
          "name": "stdout",
          "text": [
            "Enter a positive integer10\n",
            "[1, 2, 5, 10]\n"
          ]
        }
      ],
      "source": [
        "a = int(input(\"Enter a positive integer\"))\n",
        "lst1 = []\n",
        "for i in range(1, a+1):\n",
        "    if a%i == 0:\n",
        "        lst1.append(i)\n",
        "print(lst1)"
      ]
    },
    {
      "cell_type": "markdown",
      "id": "41b462e9",
      "metadata": {
        "id": "41b462e9"
      },
      "source": [
        "## Find the Largest Word\n",
        "Write a Python program that finds the largest word in a given input string. For example, given the string `\"hello how are you\"`, the program should print `\"hello\"`."
      ]
    },
    {
      "cell_type": "code",
      "execution_count": 14,
      "id": "13037cad",
      "metadata": {
        "id": "13037cad",
        "outputId": "8cd6f15b-e86a-4882-d87c-88379c519312",
        "colab": {
          "base_uri": "https://localhost:8080/"
        }
      },
      "outputs": [
        {
          "output_type": "stream",
          "name": "stdout",
          "text": [
            "Enter a string:he hellow how are you\n",
            "hellow\n"
          ]
        }
      ],
      "source": [
        "str1 = input(\"Enter a string:\")\n",
        "lst1 = str1.split()\n",
        "largest = lst1[0]\n",
        "for i in lst1:\n",
        "    if len(i) > len(largest):\n",
        "        largest = i\n",
        "print(largest)"
      ]
    },
    {
      "cell_type": "markdown",
      "id": "3b71775e",
      "metadata": {
        "id": "3b71775e"
      },
      "source": [
        "## Count the Frequency of List Elements\n",
        "Write a Python program that counts the frequency of each element in a given list and store them in a dictionary. For example, given the list `[111, \"hello\", 222, \"hello\", 111]`, the program should define a dictionary `{111: 2, \"hello\": 2, 222: 1}`."
      ]
    },
    {
      "cell_type": "code",
      "execution_count": 17,
      "id": "fdb69cdb",
      "metadata": {
        "id": "fdb69cdb",
        "outputId": "6867ba03-0841-4959-9b70-19a809fd415c",
        "colab": {
          "base_uri": "https://localhost:8080/"
        }
      },
      "outputs": [
        {
          "output_type": "stream",
          "name": "stdout",
          "text": [
            "{111: 2, 'hello': 2, 222: 1}\n"
          ]
        }
      ],
      "source": [
        "lst1 = [111, \"hello\", 222, \"hello\", 111]\n",
        "dict1 = {}\n",
        "for i in lst1:\n",
        "    if i in dict1:\n",
        "        dict1[i] += 1\n",
        "    else:\n",
        "        dict1[i] = 1\n",
        "print(dict1)"
      ]
    },
    {
      "cell_type": "code",
      "source": [],
      "metadata": {
        "id": "Rws6J1WD9mfP"
      },
      "id": "Rws6J1WD9mfP",
      "execution_count": 15,
      "outputs": []
    }
  ],
  "metadata": {
    "kernelspec": {
      "display_name": "Python 3",
      "language": "python",
      "name": "python3"
    },
    "language_info": {
      "codemirror_mode": {
        "name": "ipython",
        "version": 3
      },
      "file_extension": ".py",
      "mimetype": "text/x-python",
      "name": "python",
      "nbconvert_exporter": "python",
      "pygments_lexer": "ipython3",
      "version": "3.8.5"
    },
    "colab": {
      "provenance": []
    }
  },
  "nbformat": 4,
  "nbformat_minor": 5
}