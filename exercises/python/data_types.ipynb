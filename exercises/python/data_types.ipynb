{
  "cells": [
    {
      "cell_type": "markdown",
      "id": "novel-stream",
      "metadata": {
        "id": "novel-stream"
      },
      "source": [
        "# Data Types"
      ]
    },
    {
      "cell_type": "markdown",
      "id": "finite-albania",
      "metadata": {
        "id": "finite-albania"
      },
      "source": [
        "## Remove Vowels\n",
        "Write a Python program that takes a string, makes the character lowercase, removes its vowel characters (`\"a\"`, `\"e\"`, `\"i\"`, `\"o\"`, and `\"u\"`) and prints the result. For example, given the string `\"Hello\"`, the program should print `\"hll\"`."
      ]
    },
    {
      "cell_type": "code",
      "execution_count": 1,
      "id": "human-century",
      "metadata": {
        "id": "human-century",
        "outputId": "aa8043ab-7275-47b2-d763-b68f53d839e3",
        "colab": {
          "base_uri": "https://localhost:8080/"
        }
      },
      "outputs": [
        {
          "output_type": "stream",
          "name": "stdout",
          "text": [
            "Enter any stringMeet\n",
            "Mt\n"
          ]
        }
      ],
      "source": [
        "str1 = input(\"Enter any string\")\n",
        "\n",
        "vowels = \"aeiou\"\n",
        "\n",
        "for x in str1.lower():\n",
        "    if x in vowels:\n",
        "        str1 = str1.replace(x,\"\")\n",
        "print(str1)"
      ]
    },
    {
      "cell_type": "markdown",
      "id": "formed-candy",
      "metadata": {
        "id": "formed-candy"
      },
      "source": [
        "## Reverse the Words\n",
        "Write a Python program that takes a string containing some words that are separeted with whitespace, reverses the words in the string, and prints the result. For example, given the string `\"hello how are you\"`, the program should print `\"you are how hello\"`."
      ]
    },
    {
      "cell_type": "code",
      "execution_count": 2,
      "id": "forward-berry",
      "metadata": {
        "id": "forward-berry",
        "outputId": "4b85f6d8-d5b5-4291-c110-b8f15f9698a1",
        "colab": {
          "base_uri": "https://localhost:8080/"
        }
      },
      "outputs": [
        {
          "output_type": "stream",
          "name": "stdout",
          "text": [
            "Enter any stringHello how are you\n",
            "you are how Hello\n"
          ]
        }
      ],
      "source": [
        "str1 = input(\"Enter any string\")\n",
        "\n",
        "words = str1.split()\n",
        "words.reverse()\n",
        "print(\" \".join(words))"
      ]
    },
    {
      "cell_type": "markdown",
      "id": "after-radius",
      "metadata": {
        "id": "after-radius"
      },
      "source": [
        "## Count Common Elements of 2 Lists\n",
        "Write a Python program that prints the number of common elements in two given lists. For example, given `[1, 2, 3]` and `[5, 1, 3]`, the program should print 2."
      ]
    },
    {
      "cell_type": "code",
      "execution_count": 4,
      "id": "adverse-berkeley",
      "metadata": {
        "id": "adverse-berkeley",
        "outputId": "c4660179-3445-46cd-929e-0a7df42d9bd4",
        "colab": {
          "base_uri": "https://localhost:8080/"
        }
      },
      "outputs": [
        {
          "output_type": "stream",
          "name": "stdout",
          "text": [
            "2\n"
          ]
        }
      ],
      "source": [
        "l1 = [1, 2, 3]\n",
        "l2 = [5, 1, 3]\n",
        "\n",
        "count = 0\n",
        "for x in l1: # takes  1 from l1 in first iteration\n",
        "    if x in l2: # check whether 1 in l2 in the first iteration if yes then count is incremented by 1.\n",
        "        count += 1\n",
        "print(count)\n"
      ]
    },
    {
      "cell_type": "markdown",
      "id": "secret-theme",
      "metadata": {
        "id": "secret-theme"
      },
      "source": [
        "## Print Sorted Unique Words\n",
        "Write a Python program that takes a string containing some words that are separeted with whitespace, removes all duplicate words, sorts the remaining words alphanumerically, and prints the result. For example, given the string `\"hello world and practice makes perfect and hello world again\"`, the program should print `\"again and hello makes perfect practice world\"`."
      ]
    },
    {
      "cell_type": "code",
      "execution_count": null,
      "id": "requested-rapid",
      "metadata": {
        "id": "requested-rapid"
      },
      "outputs": [],
      "source": [
        "str1 = \"hello world and practice makes perfect and hello world again\"\n",
        "\n",
        "words = str1.split() #split the strings into words from the whitespaces\n",
        "words = set(words) #removes duplicate values by making the string set\n",
        "words = list(words) #now converting the set into list.\n",
        "words.sort() # as we know that list have the sort function we will use that for sorting it alphanumerically.\n",
        "print(\" \".join(words)) # at the end we use join function for again joining the splitted words into a string."
      ]
    },
    {
      "cell_type": "markdown",
      "id": "satellite-residence",
      "metadata": {
        "id": "satellite-residence"
      },
      "source": [
        "## Convert a List of Integers to an Integer\n",
        "Write a Python program to convert a given list of integers to an integer. For example, given `[11, 2, 54]`, the program should assign 11254 into an integer variable."
      ]
    },
    {
      "cell_type": "code",
      "execution_count": 14,
      "id": "excessive-spectrum",
      "metadata": {
        "id": "excessive-spectrum",
        "outputId": "6edf7096-7736-412d-fac9-dd37275e4aca",
        "colab": {
          "base_uri": "https://localhost:8080/"
        }
      },
      "outputs": [
        {
          "output_type": "stream",
          "name": "stdout",
          "text": [
            "11254\n"
          ]
        }
      ],
      "source": [
        "list1 = [11, 2, 54]\n",
        "str1 = \"\"\n",
        "for x in list1:\n",
        "    str1 += str(x)\n",
        "print(int(str1))\n"
      ]
    },
    {
      "cell_type": "code",
      "source": [],
      "metadata": {
        "id": "qvXBXnqA2wkp"
      },
      "id": "qvXBXnqA2wkp",
      "execution_count": 13,
      "outputs": []
    }
  ],
  "metadata": {
    "kernelspec": {
      "display_name": "Python 3",
      "language": "python",
      "name": "python3"
    },
    "language_info": {
      "codemirror_mode": {
        "name": "ipython",
        "version": 3
      },
      "file_extension": ".py",
      "mimetype": "text/x-python",
      "name": "python",
      "nbconvert_exporter": "python",
      "pygments_lexer": "ipython3",
      "version": "3.8.5"
    },
    "colab": {
      "provenance": []
    }
  },
  "nbformat": 4,
  "nbformat_minor": 5
}