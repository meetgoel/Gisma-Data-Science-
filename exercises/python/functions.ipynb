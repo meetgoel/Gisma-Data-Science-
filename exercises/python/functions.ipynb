{
  "cells": [
    {
      "cell_type": "markdown",
      "id": "qualified-overhead",
      "metadata": {
        "id": "qualified-overhead"
      },
      "source": [
        "# Functions"
      ]
    },
    {
      "cell_type": "markdown",
      "id": "geographic-kazakhstan",
      "metadata": {
        "id": "geographic-kazakhstan"
      },
      "source": [
        "## Count Non-Vowel Characters\n",
        "Write a Python function that takes a string and returns the number of non-vowel characters in that string. Vowel characters in English are `\"a\"`, `\"e\"`, `\"i\"`, `\"o\"`, and `\"u\"`. For example, given the string `\"abcdA\"`, the function should return 3."
      ]
    },
    {
      "cell_type": "code",
      "execution_count": 2,
      "id": "increased-introduction",
      "metadata": {
        "id": "increased-introduction",
        "outputId": "40662493-7938-47ef-b3a2-06634d0c1983",
        "colab": {
          "base_uri": "https://localhost:8080/"
        }
      },
      "outputs": [
        {
          "output_type": "execute_result",
          "data": {
            "text/plain": [
              "3"
            ]
          },
          "metadata": {},
          "execution_count": 2
        }
      ],
      "source": [
        "def non_vowel_count(string):\n",
        "    vowels = \"aeiouAEIOU\"\n",
        "    count = 0\n",
        "    for char in string:\n",
        "        if char not in vowels:\n",
        "            count += 1\n",
        "    return count\n",
        "\n",
        "non_vowel_count(\"abcdA\")"
      ]
    },
    {
      "cell_type": "markdown",
      "id": "permanent-lawsuit",
      "metadata": {
        "id": "permanent-lawsuit"
      },
      "source": [
        "## Multiply the List Elements\n",
        "Write a Python function that takes a list of values as input and returns the product of all the numbers in the list. For example, given the input list `[1, 3, 8]`, the function should return 24."
      ]
    },
    {
      "cell_type": "code",
      "execution_count": 3,
      "id": "extensive-dividend",
      "metadata": {
        "id": "extensive-dividend",
        "outputId": "d702b057-9420-4494-93e4-2b930704fbeb",
        "colab": {
          "base_uri": "https://localhost:8080/"
        }
      },
      "outputs": [
        {
          "output_type": "execute_result",
          "data": {
            "text/plain": [
              "24"
            ]
          },
          "metadata": {},
          "execution_count": 3
        }
      ],
      "source": [
        "def multiply_list(lst):\n",
        "    product = 1\n",
        "    for num in lst:\n",
        "        product *= num\n",
        "    return product\n",
        "\n",
        "multiply_list([1, 3, 8])"
      ]
    },
    {
      "cell_type": "markdown",
      "id": "documented-discharge",
      "metadata": {
        "id": "documented-discharge"
      },
      "source": [
        "## Check if a String is Palindrome\n",
        "Write a Python function that takes a string and returns `True` if it is palindrome. A palindrome is a word, number, phrase, or other sequence of characters which reads the same backward as forward. For example, given the string `\"abc\"` the function should return `False`. But, given the string `\"aba\"`, the function should return `True`."
      ]
    },
    {
      "cell_type": "code",
      "execution_count": 4,
      "id": "homeless-generator",
      "metadata": {
        "id": "homeless-generator",
        "outputId": "72eb13d4-a34b-4794-ee95-8e6e472d332f",
        "colab": {
          "base_uri": "https://localhost:8080/"
        }
      },
      "outputs": [
        {
          "output_type": "execute_result",
          "data": {
            "text/plain": [
              "True"
            ]
          },
          "metadata": {},
          "execution_count": 4
        }
      ],
      "source": [
        "def is_palindrome(string):\n",
        "    return string == string[::-1]\n",
        "\n",
        "is_palindrome(\"aba\")"
      ]
    },
    {
      "cell_type": "markdown",
      "id": "retired-craps",
      "metadata": {
        "id": "retired-craps"
      },
      "source": [
        "## Count the Unique Digits in an Integer\n",
        "Write a Python function that takes a positive integer and returns the number of unique digits in that integer. For example, given the integer 12315, the function should return 4."
      ]
    },
    {
      "cell_type": "code",
      "execution_count": 9,
      "id": "australian-resort",
      "metadata": {
        "id": "australian-resort",
        "outputId": "d5059ca6-c0a5-4da5-fed7-cdc6d5754445",
        "colab": {
          "base_uri": "https://localhost:8080/"
        }
      },
      "outputs": [
        {
          "output_type": "execute_result",
          "data": {
            "text/plain": [
              "4"
            ]
          },
          "metadata": {},
          "execution_count": 9
        }
      ],
      "source": [
        "def unique_digits(num):\n",
        "    digits = set()\n",
        "    while num > 0:\n",
        "        digits.add(num % 10)\n",
        "        num //= 10\n",
        "    return len(digits)\n",
        "\n",
        "unique_digits(12315)"
      ]
    },
    {
      "cell_type": "markdown",
      "id": "upset-physiology",
      "metadata": {
        "id": "upset-physiology"
      },
      "source": [
        "## Check a Number is Prime\n",
        "Write a Python function that takes a number and checks the number is prime or not. It should return `True` for being prime and `False` otherwise. Note that a prime number (or a prime) is a natural number greater than 1 and that has no positive divisors other than 1 and itself. For example, the function should return `True` for the given number 7 and `False` for the given number 10."
      ]
    },
    {
      "cell_type": "code",
      "execution_count": 12,
      "id": "normal-garbage",
      "metadata": {
        "id": "normal-garbage",
        "outputId": "ae0b7400-eea1-49ac-bdc1-43eb38593ce5",
        "colab": {
          "base_uri": "https://localhost:8080/"
        }
      },
      "outputs": [
        {
          "output_type": "execute_result",
          "data": {
            "text/plain": [
              "True"
            ]
          },
          "metadata": {},
          "execution_count": 12
        }
      ],
      "source": [
        "def is_prime(num):\n",
        "    if num <= 1:\n",
        "        return False\n",
        "    for i in range(2, num):\n",
        "        if num % i == 0:\n",
        "            return False\n",
        "    return True\n",
        "\n",
        "is_prime(7)"
      ]
    },
    {
      "cell_type": "markdown",
      "id": "daily-console",
      "metadata": {
        "id": "daily-console"
      },
      "source": [
        "## Sort Hyphened-Seperated Words\n",
        "Write a Python function that takes a sequence of words that are separated by hyphens as input and returns the words in a hyphen-separated sequence after sorting the words alphabetically. For example, given the string `\"green-red-yellow-black-white\"`, the function should return `\"black-green-red-white-yellow\"`."
      ]
    },
    {
      "cell_type": "code",
      "execution_count": 11,
      "id": "aging-staff",
      "metadata": {
        "id": "aging-staff",
        "outputId": "abfd4133-9092-4a16-d0f4-f60bd32bc2f3",
        "colab": {
          "base_uri": "https://localhost:8080/",
          "height": 35
        }
      },
      "outputs": [
        {
          "output_type": "execute_result",
          "data": {
            "text/plain": [
              "'black-green-red-white-yellow'"
            ],
            "application/vnd.google.colaboratory.intrinsic+json": {
              "type": "string"
            }
          },
          "metadata": {},
          "execution_count": 11
        }
      ],
      "source": [
        "def sort_words(string):\n",
        "    words = string.split(\"-\")\n",
        "    words.sort()\n",
        "    return \"-\".join(words)\n",
        "\n",
        "sort_words(\"green-red-yellow-black-white\")"
      ]
    },
    {
      "cell_type": "markdown",
      "id": "dressed-leisure",
      "metadata": {
        "id": "dressed-leisure"
      },
      "source": [
        "## Count the Characters\n",
        "Write a Python function that takes a string as input and returns a dictionary that stores the frequency of each character in the input string. For example, given the string `\"abca\"`, the function should return `{'a': 2, 'b': 1, 'c': 1}`."
      ]
    },
    {
      "cell_type": "code",
      "execution_count": 10,
      "id": "complete-stress",
      "metadata": {
        "id": "complete-stress",
        "outputId": "8fc3f24f-f188-42b7-cbfd-a85c0a69150c",
        "colab": {
          "base_uri": "https://localhost:8080/"
        }
      },
      "outputs": [
        {
          "output_type": "execute_result",
          "data": {
            "text/plain": [
              "{'a': 2, 'b': 1, 'c': 1}"
            ]
          },
          "metadata": {},
          "execution_count": 10
        }
      ],
      "source": [
        "def count_chars(string):\n",
        "    count = {}\n",
        "    for char in string:\n",
        "        if char in count:\n",
        "            count[char] += 1\n",
        "        else:\n",
        "            count[char] = 1\n",
        "    return count\n",
        "\n",
        "count_chars(\"abca\")"
      ]
    },
    {
      "cell_type": "markdown",
      "id": "aerial-uganda",
      "metadata": {
        "id": "aerial-uganda"
      },
      "source": [
        "## Compute the Fibonacci Sequence\n",
        "The Fibonacci Sequence is computed based on the following formula:     \n",
        "\n",
        "$$ f(n) = 0 \\text{   if } n = 0; \\\\\n",
        "f(n) = 1 \\text{   if } n = 1; \\\\\n",
        "f(n) = f(n-1) + f(n-2) \\text{   if } n > 1. $$     \n",
        "\n",
        "Write a Python function that computes the value of `f(n)` with a given `n` as input. For example, given 7, the function should return 13."
      ]
    },
    {
      "cell_type": "code",
      "execution_count": null,
      "id": "compatible-senate",
      "metadata": {
        "id": "compatible-senate"
      },
      "outputs": [],
      "source": []
    }
  ],
  "metadata": {
    "kernelspec": {
      "display_name": "Python 3",
      "language": "python",
      "name": "python3"
    },
    "language_info": {
      "codemirror_mode": {
        "name": "ipython",
        "version": 3
      },
      "file_extension": ".py",
      "mimetype": "text/x-python",
      "name": "python",
      "nbconvert_exporter": "python",
      "pygments_lexer": "ipython3",
      "version": "3.8.5"
    },
    "colab": {
      "provenance": []
    }
  },
  "nbformat": 4,
  "nbformat_minor": 5
}