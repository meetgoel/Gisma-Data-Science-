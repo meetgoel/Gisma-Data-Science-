{
  "cells": [
    {
      "cell_type": "markdown",
      "id": "korean-wednesday",
      "metadata": {
        "id": "korean-wednesday"
      },
      "source": [
        "# Generative Adversarial Networks\n",
        "You should build an end-to-end machine learning pipeline using a generative adversarial network model. In particular, you should do the following:\n",
        "- Load the `mnist` dataset using [Pandas](https://pandas.pydata.org/docs/reference/api/pandas.read_csv.html). You can find this dataset in the [TensorFlow repository](https://www.tensorflow.org/tutorials/generative/dcgan).\n",
        "- Build an end-to-end machine learning pipeline, including a [generative adversarial network](https://www.tensorflow.org/tutorials/generative/dcgan) model.\n",
        "- Optimize your pipeline by validating your design decisions.\n",
        "- Generate new images using your trained generator model and inspect the results.  \n",
        "- Check the documentation to identify the most important hyperparameters, attributes, and methods of the model. Use them in practice."
      ]
    },
    {
      "cell_type": "markdown",
      "source": [
        "Importing Required Libraries"
      ],
      "metadata": {
        "id": "infrared-copper"
      },
      "id": "infrared-copper"
    },
    {
      "cell_type": "code",
      "source": [
        "import os\n",
        "import time\n",
        "import tensorflow as tf\n",
        "import matplotlib.pyplot as plt\n",
        "from IPython import display\n",
        "from keras import layers\n",
        "from keras.losses import BinaryCrossentropy\n",
        "from keras.optimizers import Adam"
      ],
      "metadata": {
        "id": "Ol3OQdylBEfs"
      },
      "id": "Ol3OQdylBEfs",
      "execution_count": 44,
      "outputs": []
    },
    {
      "cell_type": "markdown",
      "source": [
        "Reading the Dataset"
      ],
      "metadata": {
        "id": "4r5UMG2gBGOy"
      },
      "id": "4r5UMG2gBGOy"
    },
    {
      "cell_type": "code",
      "source": [
        "(train_images, train_labels), (_, _) = tf.keras.datasets.mnist.load_data()\n",
        "train_images.shape"
      ],
      "metadata": {
        "id": "IPR4hudrBI72",
        "outputId": "11ab5352-a6ef-496e-9e55-505d33790b79",
        "colab": {
          "base_uri": "https://localhost:8080/"
        }
      },
      "id": "IPR4hudrBI72",
      "execution_count": 45,
      "outputs": [
        {
          "output_type": "execute_result",
          "data": {
            "text/plain": [
              "(60000, 28, 28)"
            ]
          },
          "metadata": {},
          "execution_count": 45
        }
      ]
    },
    {
      "cell_type": "markdown",
      "source": [
        "##Sampling the Data"
      ],
      "metadata": {
        "id": "JYefyK-wDjsc"
      },
      "id": "JYefyK-wDjsc"
    },
    {
      "cell_type": "code",
      "source": [
        "SAMPLE_SIZE = 5000\n",
        "train_images = train_images[:SAMPLE_SIZE]"
      ],
      "metadata": {
        "id": "axmWB7KFDhea"
      },
      "id": "axmWB7KFDhea",
      "execution_count": 46,
      "outputs": []
    },
    {
      "cell_type": "code",
      "source": [
        "train_images = train_images.reshape(train_images.shape[0], 28, 28, 1).astype('float32')\n",
        "train_images = (train_images - 127.5) / 127.5\n",
        "\n",
        "BUFFER_SIZE = SAMPLE_SIZE\n",
        "BATCH_SIZE = 128\n",
        "\n",
        "train_dataset = tf.data.Dataset.from_tensor_slices(train_images).shuffle(BUFFER_SIZE).batch(BATCH_SIZE)"
      ],
      "metadata": {
        "id": "U2DEw46mBPe6"
      },
      "id": "U2DEw46mBPe6",
      "execution_count": 47,
      "outputs": []
    },
    {
      "cell_type": "markdown",
      "source": [
        "##Creating the models"
      ],
      "metadata": {
        "id": "taFiSb9REP3w"
      },
      "id": "taFiSb9REP3w"
    },
    {
      "cell_type": "markdown",
      "source": [
        "Generator Model"
      ],
      "metadata": {
        "id": "DOHLYOZPEUFI"
      },
      "id": "DOHLYOZPEUFI"
    },
    {
      "cell_type": "code",
      "source": [
        "def make_generator_model():\n",
        "    model = tf.keras.Sequential()\n",
        "    model.add(layers.Dense(7*7*256, use_bias=False, input_shape=(100,)))\n",
        "    model.add(layers.BatchNormalization())\n",
        "    model.add(layers.LeakyReLU())\n",
        "\n",
        "    model.add(layers.Reshape((7, 7, 256)))\n",
        "    assert model.output_shape == (None, 7, 7, 256)  # Note: None is the batch size\n",
        "\n",
        "    model.add(layers.Conv2DTranspose(128, (5, 5), strides=(1, 1), padding='same', use_bias=False))\n",
        "    assert model.output_shape == (None, 7, 7, 128)\n",
        "    model.add(layers.BatchNormalization())\n",
        "    model.add(layers.LeakyReLU())\n",
        "\n",
        "    model.add(layers.Conv2DTranspose(64, (5, 5), strides=(2, 2), padding='same', use_bias=False))\n",
        "    assert model.output_shape == (None, 14, 14, 64)\n",
        "    model.add(layers.BatchNormalization())\n",
        "    model.add(layers.LeakyReLU())\n",
        "\n",
        "    model.add(layers.Conv2DTranspose(1, (5, 5), strides=(2, 2), padding='same', use_bias=False, activation='tanh'))\n",
        "    assert model.output_shape == (None, 28, 28, 1)\n",
        "\n",
        "    return model"
      ],
      "metadata": {
        "id": "vK2ZobUzEVrO"
      },
      "id": "vK2ZobUzEVrO",
      "execution_count": 48,
      "outputs": []
    },
    {
      "cell_type": "markdown",
      "source": [
        "Using (untrained) Generator model"
      ],
      "metadata": {
        "id": "oCDOeWoKEcay"
      },
      "id": "oCDOeWoKEcay"
    },
    {
      "cell_type": "code",
      "source": [
        "generator = make_generator_model()\n",
        "\n",
        "noise = tf.random.normal([1, 100])\n",
        "generated_image = generator(noise, training=False)\n",
        "\n",
        "plt.imshow(generated_image[0, :, :, 0], cmap='gray')"
      ],
      "metadata": {
        "id": "0FtLQ0XFErPd",
        "outputId": "c4442211-ca29-4d53-81da-f0ce1c94cc40",
        "colab": {
          "base_uri": "https://localhost:8080/",
          "height": 448
        }
      },
      "id": "0FtLQ0XFErPd",
      "execution_count": 49,
      "outputs": [
        {
          "output_type": "execute_result",
          "data": {
            "text/plain": [
              "<matplotlib.image.AxesImage at 0x79a336902550>"
            ]
          },
          "metadata": {},
          "execution_count": 49
        },
        {
          "output_type": "display_data",
          "data": {
            "text/plain": [
              "<Figure size 640x480 with 1 Axes>"
            ],
            "image/png": "[encoded data removed]"
          },
          "metadata": {}
        }
      ]
    },
    {
      "cell_type": "markdown",
      "source": [
        "Discriminator Model"
      ],
      "metadata": {
        "id": "AP3RBAUHErfe"
      },
      "id": "AP3RBAUHErfe"
    },
    {
      "cell_type": "code",
      "source": [
        "def make_discriminator_model():\n",
        "    model = tf.keras.Sequential()\n",
        "    model.add(layers.Conv2D(64, (5, 5), strides=(2, 2), padding='same',\n",
        "                                     input_shape=[28, 28, 1]))\n",
        "    model.add(layers.LeakyReLU())\n",
        "    model.add(layers.Dropout(0.3))\n",
        "\n",
        "    model.add(layers.Conv2D(128, (5, 5), strides=(2, 2), padding='same'))\n",
        "    model.add(layers.LeakyReLU())\n",
        "    model.add(layers.Dropout(0.3))\n",
        "\n",
        "    model.add(layers.Flatten())\n",
        "    model.add(layers.Dense(1))\n",
        "\n",
        "    return model"
      ],
      "metadata": {
        "id": "4HpXepdUEv4i"
      },
      "id": "4HpXepdUEv4i",
      "execution_count": 50,
      "outputs": []
    },
    {
      "cell_type": "markdown",
      "source": [
        "Using (untrained) Discriminator model"
      ],
      "metadata": {
        "id": "RuPjVxbQE17K"
      },
      "id": "RuPjVxbQE17K"
    },
    {
      "cell_type": "code",
      "source": [
        "discriminator = make_discriminator_model()\n",
        "decision = discriminator(generated_image)\n",
        "print (decision)"
      ],
      "metadata": {
        "id": "U9oPGuT4Ew2p",
        "outputId": "6ffd92bc-cb07-456b-a1e7-6cc88447d313",
        "colab": {
          "base_uri": "https://localhost:8080/"
        }
      },
      "id": "U9oPGuT4Ew2p",
      "execution_count": 51,
      "outputs": [
        {
          "output_type": "stream",
          "name": "stdout",
          "text": [
            "tf.Tensor([[-0.00395497]], shape=(1, 1), dtype=float32)\n"
          ]
        }
      ]
    },
    {
      "cell_type": "markdown",
      "source": [
        "##Defining the Loss Function"
      ],
      "metadata": {
        "id": "fI2zgVd5FR6j"
      },
      "id": "fI2zgVd5FR6j"
    },
    {
      "cell_type": "code",
      "source": [
        "cross_entropy = BinaryCrossentropy(from_logits=True)"
      ],
      "metadata": {
        "id": "6x4bZ5VfEz6t"
      },
      "id": "6x4bZ5VfEz6t",
      "execution_count": 52,
      "outputs": []
    },
    {
      "cell_type": "markdown",
      "source": [
        "Discriminator Loss"
      ],
      "metadata": {
        "id": "N3TK0xh2FRVt"
      },
      "id": "N3TK0xh2FRVt"
    },
    {
      "cell_type": "code",
      "source": [
        "def discriminator_loss(real_output, fake_output):\n",
        "    real_loss = cross_entropy(tf.ones_like(real_output), real_output)\n",
        "    fake_loss = cross_entropy(tf.zeros_like(fake_output), fake_output)\n",
        "    total_loss = real_loss + fake_loss\n",
        "    return total_loss"
      ],
      "metadata": {
        "id": "VKLeLPOCFuqM"
      },
      "id": "VKLeLPOCFuqM",
      "execution_count": 53,
      "outputs": []
    },
    {
      "cell_type": "markdown",
      "source": [
        "Generator Loss"
      ],
      "metadata": {
        "id": "RHZ3mNT6Fu90"
      },
      "id": "RHZ3mNT6Fu90"
    },
    {
      "cell_type": "code",
      "source": [
        "def generator_loss(fake_output):\n",
        "    return cross_entropy(tf.ones_like(fake_output), fake_output)"
      ],
      "metadata": {
        "id": "89SpnfEZFykR"
      },
      "id": "89SpnfEZFykR",
      "execution_count": 54,
      "outputs": []
    },
    {
      "cell_type": "markdown",
      "source": [
        "##Defining Optimizers"
      ],
      "metadata": {
        "id": "bC9QvXWGGBrr"
      },
      "id": "bC9QvXWGGBrr"
    },
    {
      "cell_type": "code",
      "source": [
        "generator_optimizer = Adam(1e-4)\n",
        "discriminator_optimizer = Adam(1e-4)"
      ],
      "metadata": {
        "id": "1GoSHc-RFy0h"
      },
      "id": "1GoSHc-RFy0h",
      "execution_count": 55,
      "outputs": []
    },
    {
      "cell_type": "markdown",
      "source": [
        "##Saving Checkpoints"
      ],
      "metadata": {
        "id": "AKrR2ZGPGM1l"
      },
      "id": "AKrR2ZGPGM1l"
    },
    {
      "cell_type": "code",
      "source": [
        "checkpoint_dir = './training_checkpoints' #checkpoints for the errors or sudden failure\n",
        "checkpoint_prefix = os.path.join(checkpoint_dir, \"ckpt\")\n",
        "checkpoint = tf.train.Checkpoint(generator_optimizer=generator_optimizer,\n",
        "                                 discriminator_optimizer=discriminator_optimizer,\n",
        "                                 generator=generator,\n",
        "                                 discriminator=discriminator)"
      ],
      "metadata": {
        "id": "5Y0iyZ4GGWRp"
      },
      "id": "5Y0iyZ4GGWRp",
      "execution_count": 56,
      "outputs": []
    },
    {
      "cell_type": "markdown",
      "source": [
        "Defining the Training Loop"
      ],
      "metadata": {
        "id": "ysZ3h8JPGWhO"
      },
      "id": "ysZ3h8JPGWhO"
    },
    {
      "cell_type": "code",
      "source": [
        "EPOCHS = 20\n",
        "noise_dim = 100\n",
        "num_examples_to_generate = 16\n",
        "\n",
        "seed = tf.random.normal([num_examples_to_generate, noise_dim]) #input seed to the model"
      ],
      "metadata": {
        "id": "bK18tlMtGeiX"
      },
      "id": "bK18tlMtGeiX",
      "execution_count": 57,
      "outputs": []
    },
    {
      "cell_type": "code",
      "source": [
        "@tf.function\n",
        "def train_step(images):\n",
        "    noise = tf.random.normal([BATCH_SIZE, noise_dim]) #defining random noise for the generator\n",
        "\n",
        "    with tf.GradientTape() as gen_tape, tf.GradientTape() as disc_tape:\n",
        "      generated_images = generator(noise, training=True) #generating images\n",
        "\n",
        "      real_output = discriminator(images, training=True) #discriminating the real image\n",
        "      fake_output = discriminator(generated_images, training=True) #discriminating the fake image generated by the generator\n",
        "\n",
        "      gen_loss = generator_loss(fake_output) #calculate the loss for the fake image discrimination\n",
        "      disc_loss = discriminator_loss(real_output, fake_output) #calculate the loss for the discriminator for both images\n",
        "\n",
        "    gradients_of_generator = gen_tape.gradient(gen_loss, generator.trainable_variables) #computes the gradient loss\n",
        "    gradients_of_discriminator = disc_tape.gradient(disc_loss, discriminator.trainable_variables)\n",
        "\n",
        "    generator_optimizer.apply_gradients(zip(gradients_of_generator, generator.trainable_variables))#distribute the gradient loss (weights)\n",
        "    discriminator_optimizer.apply_gradients(zip(gradients_of_discriminator, discriminator.trainable_variables))"
      ],
      "metadata": {
        "id": "ge-XWRtTGtsR"
      },
      "id": "ge-XWRtTGtsR",
      "execution_count": 58,
      "outputs": []
    },
    {
      "cell_type": "code",
      "source": [
        "def train(dataset, epochs):\n",
        "  for epoch in range(epochs):\n",
        "    start = time.time()\n",
        "\n",
        "    for image_batch in dataset:\n",
        "      train_step(image_batch)\n",
        "\n",
        "    display.clear_output(wait=True)\n",
        "    generate_and_save_images(generator,\n",
        "                             epoch + 1,\n",
        "                             seed)\n",
        "\n",
        "    if (epoch + 1) % 15 == 0:\n",
        "      checkpoint.save(file_prefix = checkpoint_prefix)\n",
        "\n",
        "    print ('Time for epoch {} is {} sec'.format(epoch + 1, time.time()-start))\n",
        "\n",
        "  display.clear_output(wait=True)\n",
        "  generate_and_save_images(generator,\n",
        "                           epochs,\n",
        "                           seed)"
      ],
      "metadata": {
        "id": "VHMuYplWG2l9"
      },
      "id": "VHMuYplWG2l9",
      "execution_count": 59,
      "outputs": []
    },
    {
      "cell_type": "code",
      "source": [
        "def generate_and_save_images(model, epoch, test_input):\n",
        "\n",
        "  predictions = model(test_input, training=False)\n",
        "\n",
        "  fig = plt.figure(figsize=(4, 4))\n",
        "\n",
        "  for i in range(predictions.shape[0]):\n",
        "      plt.subplot(4, 4, i+1)\n",
        "      plt.imshow(predictions[i, :, :, 0] * 127.5 + 127.5, cmap='gray')\n",
        "      plt.axis('off')\n",
        "\n",
        "  plt.savefig('image_at_epoch_{:04d}.png'.format(epoch))\n",
        "  plt.show()"
      ],
      "metadata": {
        "id": "Hb2xnnauHG3i"
      },
      "id": "Hb2xnnauHG3i",
      "execution_count": 60,
      "outputs": []
    },
    {
      "cell_type": "markdown",
      "source": [
        "Training the Model"
      ],
      "metadata": {
        "id": "StfsvrKXHbe_"
      },
      "id": "StfsvrKXHbe_"
    },
    {
      "cell_type": "code",
      "source": [
        "train(train_dataset, EPOCHS)"
      ],
      "metadata": {
        "id": "zDTs4alXHTcm",
        "outputId": "10b77350-db25-4837-9cd9-434f9cb7effb",
        "colab": {
          "base_uri": "https://localhost:8080/",
          "height": 345
        }
      },
      "id": "zDTs4alXHTcm",
      "execution_count": 61,
      "outputs": [
        {
          "output_type": "display_data",
          "data": {
            "text/plain": [
              "<Figure size 400x400 with 16 Axes>"
            ],
            "image/png": "[encoded data removed]"
          },
          "metadata": {}
        }
      ]
    },
    {
      "cell_type": "markdown",
      "source": [
        "Restoring the Checkpoint"
      ],
      "metadata": {
        "id": "geTmd2ukHZt1"
      },
      "id": "geTmd2ukHZt1"
    },
    {
      "cell_type": "code",
      "source": [
        "checkpoint.restore(tf.train.latest_checkpoint(checkpoint_dir))"
      ],
      "metadata": {
        "id": "NW-ZGROcHU5M",
        "outputId": "c44cfb90-0c1b-4086-f5d3-af3a3748abe4",
        "colab": {
          "base_uri": "https://localhost:8080/"
        }
      },
      "id": "NW-ZGROcHU5M",
      "execution_count": 62,
      "outputs": [
        {
          "output_type": "execute_result",
          "data": {
            "text/plain": [
              "<tensorflow.python.checkpoint.checkpoint.CheckpointLoadStatus at 0x79a33c1e01d0>"
            ]
          },
          "metadata": {},
          "execution_count": 62
        }
      ]
    }
  ],
  "metadata": {
    "kernelspec": {
      "display_name": "Python 3",
      "language": "python",
      "name": "python3"
    },
    "language_info": {
      "codemirror_mode": {
        "name": "ipython",
        "version": 3
      },
      "file_extension": ".py",
      "mimetype": "text/x-python",
      "name": "python",
      "nbconvert_exporter": "python",
      "pygments_lexer": "ipython3",
      "version": "3.8.5"
    },
    "colab": {
      "provenance": []
    }
  },
  "nbformat": 4,
  "nbformat_minor": 5
}